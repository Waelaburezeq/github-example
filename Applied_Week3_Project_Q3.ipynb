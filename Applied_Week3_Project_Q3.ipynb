{
    "cells": [
        {
            "metadata": {},
            "cell_type": "markdown",
            "source": "# Question 3 : Toronto Neighbourhood "
        },
        {
            "metadata": {},
            "cell_type": "code",
            "source": "CLIENT_ID = 'VXNURCRV1MDFLMOHBSGVDL5AU1B0UQBO2MQI2SBKN5CNSJ5Z'\nCLIENT_SECRET = '3AVGSTEBBSU4R2QYAFXUUTZAUVUE4K3RIAMLXASDUOXWGH52'\nVERSION = '20180605'\nLIMIT = 10\nradius = 5\n\ndef getNearbyVenues(names, latitudes, longitudes, radius=500):\n    \n    venues_list=[]\n    for name, lat, lng in zip(names, latitudes, longitudes):\n        print(name)\n            \n        # create the API request URL\n        url = 'https://api.foursquare.com/v2/venues/explore?&client_id={}&client_secret={}&v={}&ll={},{}&radius={}&limit={}'.format(\n            CLIENT_ID, \n            CLIENT_SECRET, \n            VERSION, \n            lat, \n            lng, \n            radius, \n            LIMIT)\n            \n        # make the GET request\n        results = requests.get(url).json()[\"response\"]['groups'][0]['items']\n        \n        # return only relevant information for each nearby venue\n        venues_list.append([(\n            name, \n            lat, \n            lng, \n            v['venue']['name'], \n            v['venue']['location']['lat'], \n            v['venue']['location']['lng'],  \n            v['venue']['categories'][0]['name']) for v in results])\n\n    nearby_venues = pd.DataFrame([item for venue_list in venues_list for item in venue_list])\n    nearby_venues.columns = ['Neighborhood', \n                  'Neighborhood Latitude', \n                  'Neighborhood Longitude', \n                  'Venue', \n                  'Venue Latitude', \n                  'Venue Longitude', \n                  'Venue Category']\n    \n    return(nearby_venues)",
            "execution_count": 101,
            "outputs": []
        },
        {
            "metadata": {},
            "cell_type": "code",
            "source": "Toronto_venues = getNearbyVenues(names=merged_df['Neighbourhood'],\n                                   latitudes=merged_df['Latitude'],\n                                   longitudes=merged_df['Longitude']\n                                  )",
            "execution_count": 102,
            "outputs": [
                {
                    "output_type": "stream",
                    "text": "Parkwoods\nVictoria Village\nHarbourfront\nLawrence Heights\nLawrence Manor\nQueen's Park\nQueen's Park\nRouge\nMalvern\nDon Mills North\nWoodbine Gardens\nParkview Hill\nRyerson\nGarden District\nGlencairn\nCloverdale\nIslington\nMartin Grove\nPrincess Gardens\nWest Deane Park\nHighland Creek\nRouge Hill\nPort Union\nFlemingdon Park\nDon Mills South\nWoodbine Heights\nSt. James Town\nHumewood-Cedarvale\nBloordale Gardens\nEringate\nMarkland Wood\nOld Burnhamthorpe\nGuildwood\nMorningside\nWest Hill\nThe Beaches\nBerczy Park\nCaledonia-Fairbanks\nWoburn\nLeaside\nCentral Bay Street\nChristie\nCedarbrae\nHillcrest Village\nBathurst Manor\nDownsview North\nWilson Heights\nThorncliffe Park\nAdelaide\nKing\nRichmond\nDovercourt Village\nDufferin\nScarborough Village\nFairview\nHenry Farm\nOriole\nNorthwood Park\nYork University\nEast Toronto\nHarbourfront East\nToronto Islands\nUnion Station\nLittle Portugal\nTrinity\nEast Birchmount Park\nIonview\nKennedy Park\nBayview Village\nCFB Toronto\nDownsview East\nThe Danforth West\nRiverdale\nDesign Exchange\nToronto Dominion Centre\nBrockton\nExhibition Place\nParkdale Village\nClairlea\nGolden Mile\nOakridge\nSilver Hills\nYork Mills\nDownsview West\nThe Beaches West\nIndia Bazaar\nCommerce Court\nVictoria Hotel\nDownsview\nNorth Park\nUpwood Park\nHumber Summit\nCliffcrest\nCliffside\nScarborough Village West\nNewtonbrook\nWillowdale\nDownsview Central\nStudio District\nBedford Park\nLawrence Manor East\nDel Ray\nKeelesdale\nMount Dennis\nSilverthorn\nEmery\nHumberlea\nBirch Cliff\nCliffside West\nWillowdale South\nDownsview Northwest\nLawrence Park\nRoselawn\nThe Junction North\nRunnymede\nWeston\nDorset Park\nScarborough Town Centre\nWexford Heights\nYork Mills West\nDavisville North\nForest Hill North\nForest Hill West\nHigh Park\nThe Junction South\nWestmount\nMaryvale\nWexford\nWillowdale West\nNorth Toronto West\nThe Annex\nNorth Midtown\nYorkville\nParkdale\nRoncesvalles\nCanada Post Gateway Processing Centre\nKingsview Village\nMartin Grove Gardens\nRichview Gardens\nSt. Phillips\nAgincourt\nDavisville\nHarbord\nUniversity of Toronto\nRunnymede\nSwansea\nClarks Corners\nSullivan\nTam O'Shanter\nMoore Park\nSummerhill East\nChinatown\nGrange Park\nKensington Market\nAgincourt North\nL'Amoreaux East\nMilliken\nSteeles East\nDeer Park\nForest Hill SE\nRathnelly\nSouth Hill\nSummerhill West\nCN Tower\nBathurst Quay\nIsland airport\nHarbourfront West\nKing and Spadina\nRailway Lands\nSouth Niagara\nHumber Bay Shores\nMimico South\nNew Toronto\nAlbion Gardens\nBeaumond Heights\nHumbergate\nJamestown\nMount Olive\nSilverstone\nSouth Steeles\nThistletown\nL'Amoreaux West\nRosedale\nStn A PO Boxes 25 The Esplanade\nAlderwood\nLong Branch\nNorthwest\nUpper Rouge\nCabbagetown\nSt. James Town\nFirst Canadian Place\nUnderground city\nThe Kingsway\nMontgomery Road\nOld Mill North\nChurch and Wellesley\nBusiness Reply Mail Processing Centre 969 Eastern\nHumber Bay\nKing's Mill Park\nKingsway Park South East\nMimico NE\nOld Mill South\nThe Queensway East\nRoyal York South East\nSunnylea\nKingsway Park South West\nMimico NW\nThe Queensway West\nRoyal York South West\nSouth of Bloor\n",
                    "name": "stdout"
                }
            ]
        },
        {
            "metadata": {},
            "cell_type": "markdown",
            "source": "#### Get Nearest Neighborhoud"
        },
        {
            "metadata": {},
            "cell_type": "code",
            "source": "toronto_onehot = pd.get_dummies(Toronto_venues[['Venue Category']], prefix=\"\", prefix_sep=\"\")\n\n# add neighborhood column back to dataframe\ntoronto_onehot['Neighborhood'] = Toronto_venues['Neighbourhood'] \n\n# move neighborhood column to the first column\nfixed_columns = [toronto_onehot.columns[-1]] + list(toronto_onehot.columns[:-1])\ntoronto_onehot = toronto_onehot[fixed_columns]\n\ntoronto_grouped = toronto_onehot.groupby('Neighborhood').mean().reset_index()\n\ndef return_most_common_venues(row, num_top_venues):\n    row_categories = row.iloc[1:]\n    row_categories_sorted = row_categories.sort_values(ascending=False)\n    \n    return row_categories_sorted.index.values[0:num_top_venues]\n\nnum_top_venues = 10\n\nindicators = ['st', 'nd', 'rd']\n\n# create columns according to number of top venues\ncolumns = ['Neighborhood']\nfor ind in np.arange(num_top_venues):\n    try:\n        columns.append('{}{} Most Common Venue'.format(ind+1, indicators[ind]))\n    except:\n        columns.append('{}th Most Common Venue'.format(ind+1))\n\n# create a new dataframe\nneighborhoods_venues_sorted = pd.DataFrame(columns=columns)\nneighborhoods_venues_sorted['Neighborhood'] = toronto_grouped['Neighborhood']\n\nfor ind in np.arange(toronto_grouped.shape[0]):\n    neighborhoods_venues_sorted.iloc[ind, 1:] = return_most_common_venues(toronto_grouped.iloc[ind, :], num_top_venues)\n    \nneighborhoods_venues_sorted.head()",
            "execution_count": 123,
            "outputs": [
                {
                    "output_type": "execute_result",
                    "execution_count": 123,
                    "data": {
                        "text/plain": "      Neighborhood      1st Most Common Venue 2nd Most Common Venue  \\\n0         Adelaide                 Steakhouse           Coffee Shop   \n1        Agincourt  Latin American Restaurant        Breakfast Spot   \n2  Agincourt North                       Park            Playground   \n3   Albion Gardens              Grocery Store   Fried Chicken Joint   \n4        Alderwood                Pizza Place          Skating Rink   \n\n  3rd Most Common Venue 4th Most Common Venue 5th Most Common Venue  \\\n0                 Hotel          Concert Hall                 Plaza   \n1                Lounge        Clothing Store          Skating Rink   \n2   Arts & Crafts Store      Department Store   Empanada Restaurant   \n3              Pharmacy           Pizza Place        Sandwich Place   \n4                   Gym           Coffee Shop        Sandwich Place   \n\n  6th Most Common Venue        7th Most Common Venue 8th Most Common Venue  \\\n0                  Caf\u00e9                    Speakeasy           Opera House   \n1        Discount Store               Farmers Market   Empanada Restaurant   \n2     Electronics Store  Eastern European Restaurant             Drugstore   \n3            Beer Store         Fast Food Restaurant           Video Store   \n4              Pharmacy                 Dance Studio                   Pub   \n\n           9th Most Common Venue       10th Most Common Venue  \n0  Vegetarian / Vegan Restaurant                    Drugstore  \n1              Electronics Store  Eastern European Restaurant  \n2                        Dog Run               Discount Store  \n3                    Gas Station                 Dance Studio  \n4                  Deli / Bodega                    Drugstore  ",
                        "text/html": "<div>\n<style scoped>\n    .dataframe tbody tr th:only-of-type {\n        vertical-align: middle;\n    }\n\n    .dataframe tbody tr th {\n        vertical-align: top;\n    }\n\n    .dataframe thead th {\n        text-align: right;\n    }\n</style>\n<table border=\"1\" class=\"dataframe\">\n  <thead>\n    <tr style=\"text-align: right;\">\n      <th></th>\n      <th>Neighborhood</th>\n      <th>1st Most Common Venue</th>\n      <th>2nd Most Common Venue</th>\n      <th>3rd Most Common Venue</th>\n      <th>4th Most Common Venue</th>\n      <th>5th Most Common Venue</th>\n      <th>6th Most Common Venue</th>\n      <th>7th Most Common Venue</th>\n      <th>8th Most Common Venue</th>\n      <th>9th Most Common Venue</th>\n      <th>10th Most Common Venue</th>\n    </tr>\n  </thead>\n  <tbody>\n    <tr>\n      <th>0</th>\n      <td>Adelaide</td>\n      <td>Steakhouse</td>\n      <td>Coffee Shop</td>\n      <td>Hotel</td>\n      <td>Concert Hall</td>\n      <td>Plaza</td>\n      <td>Caf\u00e9</td>\n      <td>Speakeasy</td>\n      <td>Opera House</td>\n      <td>Vegetarian / Vegan Restaurant</td>\n      <td>Drugstore</td>\n    </tr>\n    <tr>\n      <th>1</th>\n      <td>Agincourt</td>\n      <td>Latin American Restaurant</td>\n      <td>Breakfast Spot</td>\n      <td>Lounge</td>\n      <td>Clothing Store</td>\n      <td>Skating Rink</td>\n      <td>Discount Store</td>\n      <td>Farmers Market</td>\n      <td>Empanada Restaurant</td>\n      <td>Electronics Store</td>\n      <td>Eastern European Restaurant</td>\n    </tr>\n    <tr>\n      <th>2</th>\n      <td>Agincourt North</td>\n      <td>Park</td>\n      <td>Playground</td>\n      <td>Arts &amp; Crafts Store</td>\n      <td>Department Store</td>\n      <td>Empanada Restaurant</td>\n      <td>Electronics Store</td>\n      <td>Eastern European Restaurant</td>\n      <td>Drugstore</td>\n      <td>Dog Run</td>\n      <td>Discount Store</td>\n    </tr>\n    <tr>\n      <th>3</th>\n      <td>Albion Gardens</td>\n      <td>Grocery Store</td>\n      <td>Fried Chicken Joint</td>\n      <td>Pharmacy</td>\n      <td>Pizza Place</td>\n      <td>Sandwich Place</td>\n      <td>Beer Store</td>\n      <td>Fast Food Restaurant</td>\n      <td>Video Store</td>\n      <td>Gas Station</td>\n      <td>Dance Studio</td>\n    </tr>\n    <tr>\n      <th>4</th>\n      <td>Alderwood</td>\n      <td>Pizza Place</td>\n      <td>Skating Rink</td>\n      <td>Gym</td>\n      <td>Coffee Shop</td>\n      <td>Sandwich Place</td>\n      <td>Pharmacy</td>\n      <td>Dance Studio</td>\n      <td>Pub</td>\n      <td>Deli / Bodega</td>\n      <td>Drugstore</td>\n    </tr>\n  </tbody>\n</table>\n</div>"
                    },
                    "metadata": {}
                }
            ]
        },
        {
            "metadata": {},
            "cell_type": "markdown",
            "source": "##### Clustering "
        },
        {
            "metadata": {},
            "cell_type": "code",
            "source": "from sklearn.cluster import KMeans\n# set number of clusters\nkclusters = 5\n\ntoronto_grouped_clustering = toronto_grouped.drop('Neighborhood', 1)\n\n# run k-means clustering\nkmeans = KMeans(n_clusters=kclusters, random_state=0).fit(toronto_grouped_clustering)\n\n# check cluster labels generated for each row in the dataframe\nkmeans.labels_[0:10] \n\n# add clustering labels\nneighborhoods_venues_sorted.insert(0, 'Cluster Labels', kmeans.labels_)\n\ntoronto_merged = merged_df\n\n# merge toronto_grouped with toronto_data to add latitude/longitude for each neighborhood\ntoronto_merged = toronto_merged.join(neighborhoods_venues_sorted.set_index('Neighborhood'), on='Neighbourhood')\n\ntoronto_merged.head() # check the last columns!\n\n\n",
            "execution_count": 124,
            "outputs": [
                {
                    "output_type": "execute_result",
                    "execution_count": 124,
                    "data": {
                        "text/plain": "  Postcode           Borough     Neighbourhood Postal Code   Latitude  \\\n0      M3A        North York         Parkwoods         M3A  43.753259   \n1      M4A        North York  Victoria Village         M4A  43.725882   \n2      M5A  Downtown Toronto      Harbourfront         M5A  43.654260   \n3      M6A        North York  Lawrence Heights         M6A  43.718518   \n4      M6A        North York    Lawrence Manor         M6A  43.718518   \n\n   Longitude  Cluster Labels 1st Most Common Venue   2nd Most Common Venue  \\\n0 -79.329656             2.0                  Park       Food & Drink Shop   \n1 -79.315572             1.0           Coffee Shop   Portuguese Restaurant   \n2 -79.360636             1.0        Breakfast Spot           Historic Site   \n3 -79.464763             0.0        Clothing Store  Furniture / Home Store   \n4 -79.464763             0.0        Clothing Store  Furniture / Home Store   \n\n  3rd Most Common Venue 4th Most Common Venue  5th Most Common Venue  \\\n0  Fast Food Restaurant   Empanada Restaurant      Electronics Store   \n1          Hockey Arena     French Restaurant          Women's Store   \n2                   Spa            Restaurant                    Pub   \n3     Accessories Store              Boutique  Vietnamese Restaurant   \n4     Accessories Store              Boutique  Vietnamese Restaurant   \n\n         6th Most Common Venue 7th Most Common Venue  \\\n0  Eastern European Restaurant             Drugstore   \n1             Department Store     Electronics Store   \n2                       Bakery  Gym / Fitness Center   \n3                  Coffee Shop      Fraternity House   \n4                  Coffee Shop      Fraternity House   \n\n         8th Most Common Venue 9th Most Common Venue 10th Most Common Venue  \n0                      Dog Run        Discount Store                  Diner  \n1  Eastern European Restaurant             Drugstore                Dog Run  \n2                         Park           Coffee Shop               Creperie  \n3                Women's Store          Dessert Shop    Empanada Restaurant  \n4                Women's Store          Dessert Shop    Empanada Restaurant  ",
                        "text/html": "<div>\n<style scoped>\n    .dataframe tbody tr th:only-of-type {\n        vertical-align: middle;\n    }\n\n    .dataframe tbody tr th {\n        vertical-align: top;\n    }\n\n    .dataframe thead th {\n        text-align: right;\n    }\n</style>\n<table border=\"1\" class=\"dataframe\">\n  <thead>\n    <tr style=\"text-align: right;\">\n      <th></th>\n      <th>Postcode</th>\n      <th>Borough</th>\n      <th>Neighbourhood</th>\n      <th>Postal Code</th>\n      <th>Latitude</th>\n      <th>Longitude</th>\n      <th>Cluster Labels</th>\n      <th>1st Most Common Venue</th>\n      <th>2nd Most Common Venue</th>\n      <th>3rd Most Common Venue</th>\n      <th>4th Most Common Venue</th>\n      <th>5th Most Common Venue</th>\n      <th>6th Most Common Venue</th>\n      <th>7th Most Common Venue</th>\n      <th>8th Most Common Venue</th>\n      <th>9th Most Common Venue</th>\n      <th>10th Most Common Venue</th>\n    </tr>\n  </thead>\n  <tbody>\n    <tr>\n      <th>0</th>\n      <td>M3A</td>\n      <td>North York</td>\n      <td>Parkwoods</td>\n      <td>M3A</td>\n      <td>43.753259</td>\n      <td>-79.329656</td>\n      <td>2.0</td>\n      <td>Park</td>\n      <td>Food &amp; Drink Shop</td>\n      <td>Fast Food Restaurant</td>\n      <td>Empanada Restaurant</td>\n      <td>Electronics Store</td>\n      <td>Eastern European Restaurant</td>\n      <td>Drugstore</td>\n      <td>Dog Run</td>\n      <td>Discount Store</td>\n      <td>Diner</td>\n    </tr>\n    <tr>\n      <th>1</th>\n      <td>M4A</td>\n      <td>North York</td>\n      <td>Victoria Village</td>\n      <td>M4A</td>\n      <td>43.725882</td>\n      <td>-79.315572</td>\n      <td>1.0</td>\n      <td>Coffee Shop</td>\n      <td>Portuguese Restaurant</td>\n      <td>Hockey Arena</td>\n      <td>French Restaurant</td>\n      <td>Women's Store</td>\n      <td>Department Store</td>\n      <td>Electronics Store</td>\n      <td>Eastern European Restaurant</td>\n      <td>Drugstore</td>\n      <td>Dog Run</td>\n    </tr>\n    <tr>\n      <th>2</th>\n      <td>M5A</td>\n      <td>Downtown Toronto</td>\n      <td>Harbourfront</td>\n      <td>M5A</td>\n      <td>43.654260</td>\n      <td>-79.360636</td>\n      <td>1.0</td>\n      <td>Breakfast Spot</td>\n      <td>Historic Site</td>\n      <td>Spa</td>\n      <td>Restaurant</td>\n      <td>Pub</td>\n      <td>Bakery</td>\n      <td>Gym / Fitness Center</td>\n      <td>Park</td>\n      <td>Coffee Shop</td>\n      <td>Creperie</td>\n    </tr>\n    <tr>\n      <th>3</th>\n      <td>M6A</td>\n      <td>North York</td>\n      <td>Lawrence Heights</td>\n      <td>M6A</td>\n      <td>43.718518</td>\n      <td>-79.464763</td>\n      <td>0.0</td>\n      <td>Clothing Store</td>\n      <td>Furniture / Home Store</td>\n      <td>Accessories Store</td>\n      <td>Boutique</td>\n      <td>Vietnamese Restaurant</td>\n      <td>Coffee Shop</td>\n      <td>Fraternity House</td>\n      <td>Women's Store</td>\n      <td>Dessert Shop</td>\n      <td>Empanada Restaurant</td>\n    </tr>\n    <tr>\n      <th>4</th>\n      <td>M6A</td>\n      <td>North York</td>\n      <td>Lawrence Manor</td>\n      <td>M6A</td>\n      <td>43.718518</td>\n      <td>-79.464763</td>\n      <td>0.0</td>\n      <td>Clothing Store</td>\n      <td>Furniture / Home Store</td>\n      <td>Accessories Store</td>\n      <td>Boutique</td>\n      <td>Vietnamese Restaurant</td>\n      <td>Coffee Shop</td>\n      <td>Fraternity House</td>\n      <td>Women's Store</td>\n      <td>Dessert Shop</td>\n      <td>Empanada Restaurant</td>\n    </tr>\n  </tbody>\n</table>\n</div>"
                    },
                    "metadata": {}
                }
            ]
        },
        {
            "metadata": {},
            "cell_type": "markdown",
            "source": "#### Creating the map"
        },
        {
            "metadata": {},
            "cell_type": "code",
            "source": "#!pip install folium\n#!pip install geopy\n\nfrom geopy.geocoders import Nominatim\n\naddress = 'New York City, NY'\n\ngeolocator = Nominatim(user_agent=\"ny_explorer\")\nlocation = geolocator.geocode(address)\nlatitude = location.latitude\nlongitude = location.longitude\n\n\nimport folium\nimport matplotlib.cm as cm\nimport matplotlib.colors as colors\n\n# create map\nmap_clusters = folium.Map(location=[latitude, longitude], zoom_start=11)\n\n# set color scheme for the clusters\nx = np.arange(kclusters)\nys = [i + x + (i*x)**2 for i in range(kclusters)]\ncolors_array = cm.rainbow(np.linspace(0, 1, len(ys)))\nrainbow = [colors.rgb2hex(i) for i in colors_array]\n\n# add markers to the map\nmarkers_colors = []\nfor lat, lon, poi, cluster in zip(toronto_merged['Latitude'], toronto_merged['Longitude'], toronto_merged['Neighbourhood'], toronto_merged['Cluster Labels']):\n    label = folium.Popup(str(poi) + ' Cluster ' + str(cluster), parse_html=True)\n    folium.CircleMarker(\n        [lat, lon],\n        radius=5,\n        popup=label,\n        color=rainbow[cluster-1],\n        fill=True,\n        fill_color=rainbow[cluster-1],\n        fill_opacity=0.7).add_to(map_clusters)\n       \nmap_clusters",
            "execution_count": 134,
            "outputs": [
                {
                    "output_type": "error",
                    "ename": "TypeError",
                    "evalue": "list indices must be integers or slices, not float",
                    "traceback": [
                        "\u001b[0;31m---------------------------------------------------------------------------\u001b[0m",
                        "\u001b[0;31mTypeError\u001b[0m                                 Traceback (most recent call last)",
                        "\u001b[0;32m<ipython-input-134-0b0f7ea4adb8>\u001b[0m in \u001b[0;36m<module>\u001b[0;34m\u001b[0m\n\u001b[1;32m     33\u001b[0m         \u001b[0mradius\u001b[0m\u001b[0;34m=\u001b[0m\u001b[0;36m5\u001b[0m\u001b[0;34m,\u001b[0m\u001b[0;34m\u001b[0m\u001b[0;34m\u001b[0m\u001b[0m\n\u001b[1;32m     34\u001b[0m         \u001b[0mpopup\u001b[0m\u001b[0;34m=\u001b[0m\u001b[0mlabel\u001b[0m\u001b[0;34m,\u001b[0m\u001b[0;34m\u001b[0m\u001b[0;34m\u001b[0m\u001b[0m\n\u001b[0;32m---> 35\u001b[0;31m         \u001b[0mcolor\u001b[0m\u001b[0;34m=\u001b[0m\u001b[0mrainbow\u001b[0m\u001b[0;34m[\u001b[0m\u001b[0mcluster\u001b[0m\u001b[0;34m-\u001b[0m\u001b[0;36m1\u001b[0m\u001b[0;34m]\u001b[0m\u001b[0;34m,\u001b[0m\u001b[0;34m\u001b[0m\u001b[0;34m\u001b[0m\u001b[0m\n\u001b[0m\u001b[1;32m     36\u001b[0m         \u001b[0mfill\u001b[0m\u001b[0;34m=\u001b[0m\u001b[0;32mTrue\u001b[0m\u001b[0;34m,\u001b[0m\u001b[0;34m\u001b[0m\u001b[0;34m\u001b[0m\u001b[0m\n\u001b[1;32m     37\u001b[0m         \u001b[0mfill_color\u001b[0m\u001b[0;34m=\u001b[0m\u001b[0mrainbow\u001b[0m\u001b[0;34m[\u001b[0m\u001b[0mcluster\u001b[0m\u001b[0;34m-\u001b[0m\u001b[0;36m1\u001b[0m\u001b[0;34m]\u001b[0m\u001b[0;34m,\u001b[0m\u001b[0;34m\u001b[0m\u001b[0;34m\u001b[0m\u001b[0m\n",
                        "\u001b[0;31mTypeError\u001b[0m: list indices must be integers or slices, not float"
                    ]
                }
            ]
        }
    ],
    "metadata": {
        "kernelspec": {
            "name": "python3",
            "display_name": "Python 3.6",
            "language": "python"
        },
        "language_info": {
            "name": "python",
            "version": "3.6.8",
            "mimetype": "text/x-python",
            "codemirror_mode": {
                "name": "ipython",
                "version": 3
            },
            "pygments_lexer": "ipython3",
            "nbconvert_exporter": "python",
            "file_extension": ".py"
        }
    },
    "nbformat": 4,
    "nbformat_minor": 1
}