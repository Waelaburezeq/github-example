{
    "cells": [
        {
            "metadata": {},
            "cell_type": "markdown",
            "source": "Importing Data from Wiki Link and ignoring Not assigned Borough"
        },
        {
            "metadata": {},
            "cell_type": "code",
            "source": "import numpy as np\nimport pandas as pd\n\ntables = pd.read_html('https://en.wikipedia.org/wiki/List_of_postal_codes_of_Canada:_M', header=0,\n                      keep_default_na=False)\n\nheadings = ['Postcode','Borough','Neighbourhood']\nfor table in tables:\n    current_headings = table.columns.values[:3]\n    if len(current_headings) != len(headings):\n        continue\n    if all(current_headings == headings):\n        break\n\ntable[headings].to_csv('test.txt', sep=';', header=False, index=False)\n# Excluding Not Assigned Borough\ndf = table[table['Borough']!='Not assigned']",
            "execution_count": 80,
            "outputs": []
        },
        {
            "metadata": {},
            "cell_type": "markdown",
            "source": "# Question 1: Import data from Wiki and do some data cleansing"
        },
        {
            "metadata": {},
            "cell_type": "code",
            "source": "############################################################################################### Question #1 ###########################################################################\n\n# Merging Duplicated Neighbourhood\ndf.groupby(['Postcode','Borough'])['Neighbourhood'].apply(' '.join).reset_index()\n\n# Replacing Not Assigned Neighbourhood by Borough\nprint(df.loc[df['Neighbourhood'] == 'Not assigned']) #M7A Postal Code\n\n#df['Neighbourhood'] = np.where(df['Neighbourhood'] == 'Not assigned', df['Borough'], df['Neighbourhood'])\n#OR : df.Neighbourhood[df.Neighbourhood == 'Not assigned'] = df.Borough, OR: \ndf.Neighbourhood.replace('Not assigned',df.Borough,inplace=True)\n\nprint(df.loc[df['Postcode'] == 'M7A']) #  M7A  Queen's Park  Queen's Park",
            "execution_count": 81,
            "outputs": [
                {
                    "output_type": "stream",
                    "text": "  Postcode       Borough Neighbourhood\n7      M7A  Queen's Park  Not assigned\n  Postcode       Borough Neighbourhood\n7      M7A  Queen's Park  Queen's Park\n",
                    "name": "stdout"
                }
            ]
        },
        {
            "metadata": {},
            "cell_type": "markdown",
            "source": "Data Frame Shape"
        },
        {
            "metadata": {},
            "cell_type": "code",
            "source": "df.shape #(210,3)\n#df.set_index('Postcode',drop = True, inplace=True)\n#df.reset_index(drop=True)\ndf.head()",
            "execution_count": 82,
            "outputs": [
                {
                    "output_type": "execute_result",
                    "execution_count": 82,
                    "data": {
                        "text/plain": "  Postcode           Borough     Neighbourhood\n2      M3A        North York         Parkwoods\n3      M4A        North York  Victoria Village\n4      M5A  Downtown Toronto      Harbourfront\n5      M6A        North York  Lawrence Heights\n6      M6A        North York    Lawrence Manor",
                        "text/html": "<div>\n<style scoped>\n    .dataframe tbody tr th:only-of-type {\n        vertical-align: middle;\n    }\n\n    .dataframe tbody tr th {\n        vertical-align: top;\n    }\n\n    .dataframe thead th {\n        text-align: right;\n    }\n</style>\n<table border=\"1\" class=\"dataframe\">\n  <thead>\n    <tr style=\"text-align: right;\">\n      <th></th>\n      <th>Postcode</th>\n      <th>Borough</th>\n      <th>Neighbourhood</th>\n    </tr>\n  </thead>\n  <tbody>\n    <tr>\n      <th>2</th>\n      <td>M3A</td>\n      <td>North York</td>\n      <td>Parkwoods</td>\n    </tr>\n    <tr>\n      <th>3</th>\n      <td>M4A</td>\n      <td>North York</td>\n      <td>Victoria Village</td>\n    </tr>\n    <tr>\n      <th>4</th>\n      <td>M5A</td>\n      <td>Downtown Toronto</td>\n      <td>Harbourfront</td>\n    </tr>\n    <tr>\n      <th>5</th>\n      <td>M6A</td>\n      <td>North York</td>\n      <td>Lawrence Heights</td>\n    </tr>\n    <tr>\n      <th>6</th>\n      <td>M6A</td>\n      <td>North York</td>\n      <td>Lawrence Manor</td>\n    </tr>\n  </tbody>\n</table>\n</div>"
                    },
                    "metadata": {}
                }
            ]
        }
    ],
    "metadata": {
        "kernelspec": {
            "name": "python3",
            "display_name": "Python 3.6",
            "language": "python"
        },
        "language_info": {
            "name": "python",
            "version": "3.6.8",
            "mimetype": "text/x-python",
            "codemirror_mode": {
                "name": "ipython",
                "version": 3
            },
            "pygments_lexer": "ipython3",
            "nbconvert_exporter": "python",
            "file_extension": ".py"
        }
    },
    "nbformat": 4,
    "nbformat_minor": 1
}